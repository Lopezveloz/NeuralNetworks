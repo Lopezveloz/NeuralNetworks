{
 "cells": [
  {
   "cell_type": "code",
   "execution_count": 13,
   "metadata": {
    "scrolled": true
   },
   "outputs": [
    {
     "name": "stderr",
     "output_type": "stream",
     "text": [
      "C:\\Users\\Probook6470b\\AppData\\Local\\Temp\\ipykernel_7052\\487401467.py:54: VisibleDeprecationWarning: Creating an ndarray from ragged nested sequences (which is a list-or-tuple of lists-or-tuples-or ndarrays with different lengths or shapes) is deprecated. If you meant to do this, you must specify 'dtype=object' when creating the ndarray.\n",
      "  test_result_array=np.array(test_result)\n"
     ]
    }
   ],
   "source": [
    "import pandas as pd\n",
    "import numpy as np\n",
    "\n",
    "filename = 'data.csv' \n",
    "data = pd.read_csv(filename, header=0)\n",
    "\n",
    "training = data.iloc[0:390,2:30]\n",
    "test = data.iloc[391:569,2:30]\n",
    "\n",
    "# Convert the series to a list n array\n",
    "training_inputs = training.values.tolist()\n",
    "training_inputs_array=np.array(training_inputs)\n",
    "\n",
    "test_inputs = test.values.tolist()\n",
    "test_inputs_array=np.array(test_inputs)\n",
    "\n",
    "#Validation es el diagnóstico (maligno o benigno)\n",
    "training_re = data.iloc[0:390,1]\n",
    "\n",
    "#Se modifica el valor de entrada del diagnóstico\n",
    "#Maligno/Benigno de letras a numeros\n",
    " \n",
    "for index, value in enumerate(training_re):\n",
    "    if value == 'M':\n",
    "      training_re[index] = [[1]]\n",
    "    else:\n",
    "      training_re[index] = [[0]]\n",
    "\n",
    "# Convert the results series to a list\n",
    "#training_results = training_re.values.tolist()\n",
    "\n",
    "training_results_array=np.array(training_re)\n",
    "\n",
    "training_inputs_array = [np.reshape(x, (28, 1)) for x in training_inputs_array]\n",
    "training_data = list(zip(training_inputs_array, training_results_array))\n",
    "\n",
    "#print(np.shape(training_data))\n",
    "#print(training_data[0])\n",
    "#print('S')\n",
    "\n",
    "test_re = data.iloc[391:569,1]\n",
    "#print(test_re)\n",
    "#Se modifica el valor de entrada del diagnóstico\n",
    "#Maligno/Benigno de letras a numeros\n",
    "\n",
    "for index, value in enumerate(test_re):\n",
    "    if value == 'M':\n",
    "      test_re[390+index] = [[1]]\n",
    "    else:\n",
    "      test_re[390+index] = [[0]]\n",
    "test_result = test_re.values.tolist()\n",
    "\n",
    "\n",
    "test_result_array=np.array(test_result)\n",
    "\n",
    "test_inputs_array = [np.reshape(x, (28, 1)) for x in test_inputs_array]\n",
    "\n",
    "test_data = list(zip(test_inputs_array, test_result_array))\n",
    "#print(np.shape(test_data))\n",
    "#print(test_data[1])"
   ]
  },
  {
   "cell_type": "code",
   "execution_count": 14,
   "metadata": {},
   "outputs": [],
   "source": [
    "#### Libraries\n",
    "# Standard library\n",
    "import random\n",
    "\n",
    "# Third-party libraries\n",
    "import numpy as np\n",
    "\n",
    "class Network(object):\n",
    "\n",
    "    def __init__(self, sizes):\n",
    "        self.num_layers = len(sizes)\n",
    "        self.sizes = sizes\n",
    "        self.biases = [np.random.randn(y, 1) for y in sizes[1:]]\n",
    "        self.weights = [np.random.randn(y, x)\n",
    "                        for x, y in zip(sizes[:-1], sizes[1:])]\n",
    "\n",
    "    def feedforward(self, a):\n",
    "        for b, w in zip(self.biases, self.weights):\n",
    "            a = tanh(np.dot(w, a)+b)\n",
    "        return a\n",
    "\n",
    "    def SGD(self, training_data, epochs, mini_batch_size, eta,test_data=None):\n",
    "        \n",
    "        if test_data:n_test = len(test_data)\n",
    "        n = len(training_data)\n",
    "        for j in range(epochs):\n",
    "            random.shuffle(training_data)\n",
    "            mini_batches = [\n",
    "                training_data[k:k+mini_batch_size]\n",
    "                for k in range(0, n, mini_batch_size)]\n",
    "            for mini_batch in mini_batches:\n",
    "                self.update_mini_batch(mini_batch, eta)\n",
    "            if test_data:\n",
    "                print (\"Epoch {0}: {1} / {2}\".format(\n",
    "                    j, self.evaluate(test_data),n_test))\n",
    "            else:\n",
    "                print (\"Epoch {0} complete\".format(j))\n",
    "\n",
    "    def update_mini_batch(self, mini_batch, eta):\n",
    "        nabla_b = [np.zeros(b.shape) for b in self.biases]\n",
    "        nabla_w = [np.zeros(w.shape) for w in self.weights]\n",
    "        for x, y in mini_batch:\n",
    "            delta_nabla_b, delta_nabla_w = self.backprop(x, y)\n",
    "            nabla_b = [nb+dnb for nb, dnb in zip(nabla_b, delta_nabla_b)]\n",
    "            nabla_w = [nw+dnw for nw, dnw in zip(nabla_w, delta_nabla_w)]\n",
    "        self.weights = [w-(eta/len(mini_batch))*nw\n",
    "                        for w, nw in zip(self.weights, nabla_w)]\n",
    "        self.biases = [b-(eta/len(mini_batch))*nb\n",
    "                       for b, nb in zip(self.biases, nabla_b)]\n",
    "\n",
    "    def backprop(self, x, y):\n",
    "        nabla_b = [np.zeros(b.shape) for b in self.biases]\n",
    "        nabla_w = [np.zeros(w.shape) for w in self.weights]\n",
    "        # feedforward\n",
    "        activation = x\n",
    "        activations = [x] # list to store all the activations, layer by layer\n",
    "        zs = [] # list to store all the z vectors, layer by layer\n",
    "        for b, w in zip(self.biases, self.weights):\n",
    "            z = np.dot(w, activation)+b\n",
    "            zs.append(z)\n",
    "            activation = tanh(z)\n",
    "            activations.append(activation)\n",
    "        # backward pass\n",
    "        delta = self.cost_derivative(activations[-1], y) * \\\n",
    "            tanh_derivada(zs[-1])\n",
    "        nabla_b[-1] = delta\n",
    "        nabla_w[-1] = np.dot(delta, activations[-2].transpose())\n",
    "        # Note that the variable l in the loop below is used a little\n",
    "        # differently to the notation in Chapter 2 of the book.  Here,\n",
    "        # l = 1 means the last layer of neurons, l = 2 is the\n",
    "        # second-last layer, and so on.  It's a renumbering of the\n",
    "        # scheme in the book, used here to take advantage of the fact\n",
    "        # that Python can use negative indices in lists.\n",
    "        for l in range(2, self.num_layers):\n",
    "            z = zs[-l]\n",
    "            sp = tanh_derivada(z)\n",
    "            delta = np.dot(self.weights[-l+1].transpose(), delta) * sp\n",
    "            nabla_b[-l] = delta\n",
    "            nabla_w[-l] = np.dot(delta, activations[-l-1].transpose())\n",
    "        return (nabla_b, nabla_w)\n",
    "\n",
    "    def evaluate(self, test_data):\n",
    "        test_results = [(np.argmax(self.feedforward(x)), y)\n",
    "                        for (x, y) in test_data]\n",
    "        return sum(int(x == y) for (x, y) in test_results)\n",
    "\n",
    "    def cost_derivative(self, output_activations, y):\n",
    "        return (output_activations-y)\n",
    "\n",
    "#### Miscellaneous functions\n",
    "#def sigmoid(z):\n",
    "#    \"\"\"The sigmoid function.\"\"\"\n",
    "#    return 1.0/(1.0+np.exp(-z))\n",
    "\n",
    "#def sigmoid_prime(z):\n",
    "#    \"\"\"Derivative of the sigmoid function.\"\"\"\n",
    "#    return sigmoid(z)*(1-sigmoid(z))\n",
    "\n",
    "\n",
    "def tanh(x):\n",
    "    return np.tanh(x)\n",
    "\n",
    "def tanh_derivada(x):\n",
    "    return 1.0 - x**2"
   ]
  },
  {
   "cell_type": "code",
   "execution_count": 15,
   "metadata": {
    "scrolled": true
   },
   "outputs": [],
   "source": [
    "net = Network([28, 15, 1])"
   ]
  },
  {
   "cell_type": "code",
   "execution_count": 16,
   "metadata": {
    "scrolled": true
   },
   "outputs": [
    {
     "name": "stderr",
     "output_type": "stream",
     "text": [
      "C:\\Users\\Probook6470b\\AppData\\Local\\Temp\\ipykernel_7052\\141804519.py:104: RuntimeWarning: overflow encountered in square\n",
      "  return 1.0 - x**2\n",
      "C:\\Users\\Probook6470b\\AppData\\Local\\Temp\\ipykernel_7052\\141804519.py:44: RuntimeWarning: invalid value encountered in add\n",
      "  nabla_b = [nb+dnb for nb, dnb in zip(nabla_b, delta_nabla_b)]\n",
      "C:\\Users\\Probook6470b\\AppData\\Local\\Temp\\ipykernel_7052\\141804519.py:45: RuntimeWarning: invalid value encountered in add\n",
      "  nabla_w = [nw+dnw for nw, dnw in zip(nabla_w, delta_nabla_w)]\n"
     ]
    },
    {
     "name": "stdout",
     "output_type": "stream",
     "text": [
      "Epoch 0: 136 / 178\n",
      "Epoch 1: 136 / 178\n",
      "Epoch 2: 136 / 178\n",
      "Epoch 3: 136 / 178\n",
      "Epoch 4: 136 / 178\n",
      "Epoch 5: 136 / 178\n",
      "Epoch 6: 136 / 178\n",
      "Epoch 7: 136 / 178\n",
      "Epoch 8: 136 / 178\n",
      "Epoch 9: 136 / 178\n"
     ]
    }
   ],
   "source": [
    "net.SGD(training_data, 10, 10, 0.000001, test_data=test_data)"
   ]
  },
  {
   "cell_type": "code",
   "execution_count": 17,
   "metadata": {},
   "outputs": [
    {
     "ename": "SyntaxError",
     "evalue": "invalid syntax (4119498711.py, line 3)",
     "output_type": "error",
     "traceback": [
      "\u001b[1;36m  Input \u001b[1;32mIn [17]\u001b[1;36m\u001b[0m\n\u001b[1;33m    deltas =\u001b[0m\n\u001b[1;37m             ^\u001b[0m\n\u001b[1;31mSyntaxError\u001b[0m\u001b[1;31m:\u001b[0m invalid syntax\n"
     ]
    }
   ],
   "source": [
    "import matplotlib.pyplot as plt\n",
    "\n",
    "deltas = \n",
    "valores=[]\n",
    "index=0\n",
    "for arreglo in deltas:\n",
    "    valores.append(arreglo[1][0] + arreglo[1][0])\n",
    "    index=index+1\n",
    "\n",
    "plt.plot(range(len(valores)), valores, color='b')\n",
    "plt.ylim([0, 1])\n",
    "plt.ylabel('Cost')\n",
    "plt.xlabel('Epochs')\n",
    "plt.tight_layout()\n",
    "plt.show()"
   ]
  },
  {
   "cell_type": "code",
   "execution_count": 83,
   "metadata": {},
   "outputs": [
    {
     "name": "stdout",
     "output_type": "stream",
     "text": [
      "       id diagnosis  radius_mean  texture_mean  perimeter_mean  area_mean  \\\n",
      "1  842517         M        20.57         17.77           132.9     1326.0   \n",
      "\n",
      "   smoothness_mean  compactness_mean  concavity_mean  concave points_mean  \\\n",
      "1          0.08474           0.07864          0.0869              0.07017   \n",
      "\n",
      "   ...  texture_worst  perimeter_worst  area_worst  smoothness_worst  \\\n",
      "1  ...          23.41            158.8      1956.0            0.1238   \n",
      "\n",
      "   compactness_worst  concavity_worst  concave points_worst  symmetry_worst  \\\n",
      "1             0.1866           0.2416                 0.186           0.275   \n",
      "\n",
      "   fractal_dimension_worst  Unnamed: 32  \n",
      "1                  0.08902          NaN  \n",
      "\n",
      "[1 rows x 33 columns]\n"
     ]
    }
   ],
   "source": [
    "import pandas as pd\n",
    "import numpy as np\n",
    "\n",
    "filename = 'data.csv' \n",
    "data = pd.read_csv(filename, header=0)\n",
    "#data.iloc[filas,columnas]\n",
    "training = data.iloc[1:2,]\n",
    "print(training)"
   ]
  },
  {
   "cell_type": "code",
   "execution_count": 75,
   "metadata": {},
   "outputs": [
    {
     "name": "stderr",
     "output_type": "stream",
     "text": [
      "<ipython-input-64-29dad0b36beb>:93: RuntimeWarning: overflow encountered in exp\n",
      "  return 1.0/(1.0+np.exp(-z))\n"
     ]
    },
    {
     "name": "stdout",
     "output_type": "stream",
     "text": [
      "Epoch 0: 219 / 390\n",
      "Epoch 1: 219 / 390\n",
      "Epoch 2: 219 / 390\n",
      "Epoch 3: 219 / 390\n",
      "Epoch 4: 219 / 390\n",
      "Epoch 5: 219 / 390\n",
      "Epoch 6: 219 / 390\n",
      "Epoch 7: 219 / 390\n",
      "Epoch 8: 219 / 390\n",
      "Epoch 9: 219 / 390\n",
      "Epoch 10: 219 / 390\n",
      "Epoch 11: 219 / 390\n",
      "Epoch 12: 219 / 390\n",
      "Epoch 13: 219 / 390\n",
      "Epoch 14: 219 / 390\n",
      "Epoch 15: 219 / 390\n",
      "Epoch 16: 219 / 390\n",
      "Epoch 17: 219 / 390\n",
      "Epoch 18: 219 / 390\n",
      "Epoch 19: 219 / 390\n"
     ]
    }
   ],
   "source": [
    "def SGD(self, training_data, epochs, mini_batch_size, eta,test_data=None):\n",
    "        \n",
    "        if test_data:n_test = len(test_data)\n",
    "        n = len(training_data)\n",
    "        for j in range(epochs):\n",
    "            random.shuffle(training_data)\n",
    "            mini_batches = [\n",
    "                training_data[k:k+mini_batch_size]\n",
    "                for k in range(0, n, mini_batch_size)]\n",
    "            for mini_batch in mini_batches:\n",
    "                self.update_mini_batch(mini_batch, eta)\n",
    "            if test_data:\n",
    "                print (\"{1}\".format(self.evaluate(test_data)))\n",
    "            else:\n",
    "                print (\"Epoch {0} complete\".format(j))\n",
    "                \n",
    "                \n",
    "net = Network([29, 30, 1])\n",
    "net.SGD(training_data, 20, 10, 5.0, test_data=training_data)"
   ]
  },
  {
   "cell_type": "code",
   "execution_count": null,
   "metadata": {},
   "outputs": [],
   "source": []
  }
 ],
 "metadata": {
  "kernelspec": {
   "display_name": "Python 3 (ipykernel)",
   "language": "python",
   "name": "python3"
  },
  "language_info": {
   "codemirror_mode": {
    "name": "ipython",
    "version": 3
   },
   "file_extension": ".py",
   "mimetype": "text/x-python",
   "name": "python",
   "nbconvert_exporter": "python",
   "pygments_lexer": "ipython3",
   "version": "3.9.12"
  }
 },
 "nbformat": 4,
 "nbformat_minor": 4
}
